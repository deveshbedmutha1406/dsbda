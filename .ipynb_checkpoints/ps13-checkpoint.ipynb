{
 "cells": [
  {
   "cell_type": "code",
   "execution_count": 37,
   "id": "80e2e706",
   "metadata": {},
   "outputs": [],
   "source": [
    "import pandas as pd\n",
    "import numpy as np"
   ]
  },
  {
   "cell_type": "code",
   "execution_count": 38,
   "id": "a052abd9",
   "metadata": {},
   "outputs": [
    {
     "data": {
      "text/html": [
       "<div>\n",
       "<style scoped>\n",
       "    .dataframe tbody tr th:only-of-type {\n",
       "        vertical-align: middle;\n",
       "    }\n",
       "\n",
       "    .dataframe tbody tr th {\n",
       "        vertical-align: top;\n",
       "    }\n",
       "\n",
       "    .dataframe thead th {\n",
       "        text-align: right;\n",
       "    }\n",
       "</style>\n",
       "<table border=\"1\" class=\"dataframe\">\n",
       "  <thead>\n",
       "    <tr style=\"text-align: right;\">\n",
       "      <th></th>\n",
       "      <th>age</th>\n",
       "      <th>sex</th>\n",
       "      <th>cp</th>\n",
       "      <th>trtbps</th>\n",
       "      <th>chol</th>\n",
       "      <th>fbs</th>\n",
       "      <th>restecg</th>\n",
       "      <th>thalachh</th>\n",
       "      <th>exng</th>\n",
       "      <th>oldpeak</th>\n",
       "      <th>slp</th>\n",
       "      <th>caa</th>\n",
       "      <th>thall</th>\n",
       "      <th>output</th>\n",
       "    </tr>\n",
       "  </thead>\n",
       "  <tbody>\n",
       "    <tr>\n",
       "      <th>0</th>\n",
       "      <td>63</td>\n",
       "      <td>1</td>\n",
       "      <td>3</td>\n",
       "      <td>145</td>\n",
       "      <td>233</td>\n",
       "      <td>1</td>\n",
       "      <td>0</td>\n",
       "      <td>150</td>\n",
       "      <td>0</td>\n",
       "      <td>2.3</td>\n",
       "      <td>0</td>\n",
       "      <td>0</td>\n",
       "      <td>1</td>\n",
       "      <td>1</td>\n",
       "    </tr>\n",
       "    <tr>\n",
       "      <th>1</th>\n",
       "      <td>37</td>\n",
       "      <td>1</td>\n",
       "      <td>2</td>\n",
       "      <td>130</td>\n",
       "      <td>250</td>\n",
       "      <td>0</td>\n",
       "      <td>1</td>\n",
       "      <td>187</td>\n",
       "      <td>0</td>\n",
       "      <td>3.5</td>\n",
       "      <td>0</td>\n",
       "      <td>0</td>\n",
       "      <td>2</td>\n",
       "      <td>1</td>\n",
       "    </tr>\n",
       "    <tr>\n",
       "      <th>2</th>\n",
       "      <td>41</td>\n",
       "      <td>0</td>\n",
       "      <td>1</td>\n",
       "      <td>130</td>\n",
       "      <td>204</td>\n",
       "      <td>0</td>\n",
       "      <td>0</td>\n",
       "      <td>172</td>\n",
       "      <td>0</td>\n",
       "      <td>1.4</td>\n",
       "      <td>2</td>\n",
       "      <td>0</td>\n",
       "      <td>2</td>\n",
       "      <td>1</td>\n",
       "    </tr>\n",
       "    <tr>\n",
       "      <th>3</th>\n",
       "      <td>56</td>\n",
       "      <td>1</td>\n",
       "      <td>1</td>\n",
       "      <td>120</td>\n",
       "      <td>236</td>\n",
       "      <td>0</td>\n",
       "      <td>1</td>\n",
       "      <td>178</td>\n",
       "      <td>0</td>\n",
       "      <td>0.8</td>\n",
       "      <td>2</td>\n",
       "      <td>0</td>\n",
       "      <td>2</td>\n",
       "      <td>1</td>\n",
       "    </tr>\n",
       "    <tr>\n",
       "      <th>4</th>\n",
       "      <td>57</td>\n",
       "      <td>0</td>\n",
       "      <td>0</td>\n",
       "      <td>120</td>\n",
       "      <td>354</td>\n",
       "      <td>0</td>\n",
       "      <td>1</td>\n",
       "      <td>163</td>\n",
       "      <td>1</td>\n",
       "      <td>0.6</td>\n",
       "      <td>2</td>\n",
       "      <td>0</td>\n",
       "      <td>2</td>\n",
       "      <td>1</td>\n",
       "    </tr>\n",
       "  </tbody>\n",
       "</table>\n",
       "</div>"
      ],
      "text/plain": [
       "   age  sex  cp  trtbps  chol  fbs  restecg  thalachh  exng  oldpeak  slp  \\\n",
       "0   63    1   3     145   233    1        0       150     0      2.3    0   \n",
       "1   37    1   2     130   250    0        1       187     0      3.5    0   \n",
       "2   41    0   1     130   204    0        0       172     0      1.4    2   \n",
       "3   56    1   1     120   236    0        1       178     0      0.8    2   \n",
       "4   57    0   0     120   354    0        1       163     1      0.6    2   \n",
       "\n",
       "   caa  thall  output  \n",
       "0    0      1       1  \n",
       "1    0      2       1  \n",
       "2    0      2       1  \n",
       "3    0      2       1  \n",
       "4    0      2       1  "
      ]
     },
     "execution_count": 38,
     "metadata": {},
     "output_type": "execute_result"
    }
   ],
   "source": [
    "df = pd.read_csv('DSBDALExam DataSets/heart.csv')\n",
    "df.head()"
   ]
  },
  {
   "cell_type": "code",
   "execution_count": 39,
   "id": "c96dced2",
   "metadata": {},
   "outputs": [
    {
     "data": {
      "text/plain": [
       "(303, 14)"
      ]
     },
     "execution_count": 39,
     "metadata": {},
     "output_type": "execute_result"
    }
   ],
   "source": [
    "df.shape"
   ]
  },
  {
   "cell_type": "code",
   "execution_count": 40,
   "id": "af7bfa99",
   "metadata": {},
   "outputs": [
    {
     "data": {
      "text/plain": [
       "Index(['age', 'sex', 'cp', 'trtbps', 'chol', 'fbs', 'restecg', 'thalachh',\n",
       "       'exng', 'oldpeak', 'slp', 'caa', 'thall', 'output'],\n",
       "      dtype='object')"
      ]
     },
     "execution_count": 40,
     "metadata": {},
     "output_type": "execute_result"
    }
   ],
   "source": [
    "df.columns"
   ]
  },
  {
   "cell_type": "code",
   "execution_count": 41,
   "id": "bf88d4a7",
   "metadata": {},
   "outputs": [
    {
     "data": {
      "text/plain": [
       "age         0\n",
       "sex         0\n",
       "cp          0\n",
       "trtbps      0\n",
       "chol        0\n",
       "fbs         0\n",
       "restecg     0\n",
       "thalachh    0\n",
       "exng        0\n",
       "oldpeak     0\n",
       "slp         0\n",
       "caa         0\n",
       "thall       0\n",
       "output      0\n",
       "dtype: int64"
      ]
     },
     "execution_count": 41,
     "metadata": {},
     "output_type": "execute_result"
    }
   ],
   "source": [
    "df.isnull().sum()"
   ]
  },
  {
   "cell_type": "code",
   "execution_count": 42,
   "id": "e675e7c2",
   "metadata": {},
   "outputs": [
    {
     "data": {
      "text/plain": [
       "age         0\n",
       "sex         0\n",
       "cp          0\n",
       "trtbps      0\n",
       "chol        0\n",
       "fbs         0\n",
       "restecg     0\n",
       "thalachh    0\n",
       "exng        0\n",
       "oldpeak     0\n",
       "slp         0\n",
       "caa         0\n",
       "thall       0\n",
       "output      0\n",
       "dtype: int64"
      ]
     },
     "execution_count": 42,
     "metadata": {},
     "output_type": "execute_result"
    }
   ],
   "source": [
    "df.eq(\"?\").sum()"
   ]
  },
  {
   "cell_type": "code",
   "execution_count": 43,
   "id": "6239fc2a",
   "metadata": {},
   "outputs": [
    {
     "data": {
      "text/plain": [
       "age           int64\n",
       "sex           int64\n",
       "cp            int64\n",
       "trtbps        int64\n",
       "chol          int64\n",
       "fbs           int64\n",
       "restecg       int64\n",
       "thalachh      int64\n",
       "exng          int64\n",
       "oldpeak     float64\n",
       "slp           int64\n",
       "caa           int64\n",
       "thall         int64\n",
       "output        int64\n",
       "dtype: object"
      ]
     },
     "execution_count": 43,
     "metadata": {},
     "output_type": "execute_result"
    }
   ],
   "source": [
    "df.dtypes"
   ]
  },
  {
   "cell_type": "code",
   "execution_count": 44,
   "id": "868c9898",
   "metadata": {},
   "outputs": [
    {
     "data": {
      "text/plain": [
       "0         Disease\n",
       "1         Disease\n",
       "2         Disease\n",
       "3         Disease\n",
       "4         Disease\n",
       "          ...    \n",
       "298    No_Disease\n",
       "299    No_Disease\n",
       "300    No_Disease\n",
       "301    No_Disease\n",
       "302    No_Disease\n",
       "Name: output, Length: 303, dtype: object"
      ]
     },
     "execution_count": 44,
     "metadata": {},
     "output_type": "execute_result"
    }
   ],
   "source": [
    "df['output'] = df.output.replace({1: \"Disease\", 0:\"No_Disease\"})\n",
    "df['output']"
   ]
  },
  {
   "cell_type": "code",
   "execution_count": 45,
   "id": "594f0a0a",
   "metadata": {},
   "outputs": [],
   "source": [
    "continous_features = ['age','trtbps','chol','thalachh','oldpeak'] \n",
    "df['age']= df['age'].astype('object')\n",
    "df['trtbps']= df['trtbps'].astype('object')\n",
    "df['chol']= df['chol'].astype('object')\n",
    "df['thalachh']= df['thalachh'].astype('object')\n",
    "df['oldpeak']= df['oldpeak'].astype('object')\n"
   ]
  },
  {
   "cell_type": "code",
   "execution_count": 46,
   "id": "0ede6d6f",
   "metadata": {},
   "outputs": [
    {
     "data": {
      "text/plain": [
       "age         object\n",
       "sex          int64\n",
       "cp           int64\n",
       "trtbps      object\n",
       "chol        object\n",
       "fbs          int64\n",
       "restecg      int64\n",
       "thalachh    object\n",
       "exng         int64\n",
       "oldpeak     object\n",
       "slp          int64\n",
       "caa          int64\n",
       "thall        int64\n",
       "output      object\n",
       "dtype: object"
      ]
     },
     "execution_count": 46,
     "metadata": {},
     "output_type": "execute_result"
    }
   ],
   "source": [
    "df.dtypes"
   ]
  },
  {
   "cell_type": "code",
   "execution_count": 47,
   "id": "a65f6e30",
   "metadata": {},
   "outputs": [
    {
     "name": "stdout",
     "output_type": "stream",
     "text": [
      "age contain 0 outliers\n",
      "trtbps contain 9 outliers\n",
      "chol contain 5 outliers\n",
      "thalachh contain 1 outliers\n",
      "oldpeak contain 4 outliers\n"
     ]
    }
   ],
   "source": [
    "def outliers(features, drop=False):\n",
    "    for ele in features:\n",
    "        var = df[ele]\n",
    "        iq1 = np.percentile(var, 25.)\n",
    "        iq2 = np.percentile(var, 75.)\n",
    "        iqr = iq2 - iq1\n",
    "        step = iqr * 1.5\n",
    "        l1 = var[~((var >= iq1 - step) & (var <= iq2 + step))].index.tolist()\n",
    "        \n",
    "        if drop:\n",
    "            print(f\"{ele} contain {len(l1)} outliers\")\n",
    "            df.drop(l1, inplace=True, errors='ignore')\n",
    "        else:\n",
    "            print(f\"{ele} contain {len(l1)} outliers\")\n",
    "outliers(continous_features, True)"
   ]
  },
  {
   "cell_type": "code",
   "execution_count": 48,
   "id": "6bc8bc97",
   "metadata": {},
   "outputs": [
    {
     "name": "stdout",
     "output_type": "stream",
     "text": [
      "age contain 0 outliers\n",
      "trtbps contain 0 outliers\n",
      "chol contain 0 outliers\n",
      "thalachh contain 0 outliers\n",
      "oldpeak contain 0 outliers\n"
     ]
    }
   ],
   "source": [
    "outliers(continous_features)"
   ]
  },
  {
   "cell_type": "code",
   "execution_count": 49,
   "id": "8090500d",
   "metadata": {},
   "outputs": [
    {
     "data": {
      "text/plain": [
       "(284, 14)"
      ]
     },
     "execution_count": 49,
     "metadata": {},
     "output_type": "execute_result"
    }
   ],
   "source": [
    "df.shape"
   ]
  },
  {
   "cell_type": "code",
   "execution_count": 50,
   "id": "6592a0f8",
   "metadata": {},
   "outputs": [
    {
     "data": {
      "text/plain": [
       "1"
      ]
     },
     "execution_count": 50,
     "metadata": {},
     "output_type": "execute_result"
    }
   ],
   "source": [
    "df.duplicated().sum()"
   ]
  },
  {
   "cell_type": "code",
   "execution_count": 51,
   "id": "e3a7b39b",
   "metadata": {},
   "outputs": [],
   "source": [
    "df.drop_duplicates(inplace=True)"
   ]
  },
  {
   "cell_type": "code",
   "execution_count": 52,
   "id": "54eb6619",
   "metadata": {},
   "outputs": [
    {
     "data": {
      "text/plain": [
       "(283, 14)"
      ]
     },
     "execution_count": 52,
     "metadata": {},
     "output_type": "execute_result"
    }
   ],
   "source": [
    "df.shape"
   ]
  },
  {
   "cell_type": "code",
   "execution_count": 57,
   "id": "a98402cc",
   "metadata": {},
   "outputs": [
    {
     "data": {
      "text/plain": [
       "2    159\n",
       "3    105\n",
       "1     17\n",
       "0      2\n",
       "Name: thall, dtype: int64"
      ]
     },
     "execution_count": 57,
     "metadata": {},
     "output_type": "execute_result"
    }
   ],
   "source": [
    "from sklearn.preprocessing import LabelEncoder\n",
    "df['thall'].value_counts()"
   ]
  },
  {
   "cell_type": "code",
   "execution_count": 59,
   "id": "6cf1ec2c",
   "metadata": {},
   "outputs": [
    {
     "data": {
      "text/plain": [
       "0    165\n",
       "1     63\n",
       "2     35\n",
       "3     16\n",
       "4      4\n",
       "Name: caa, dtype: int64"
      ]
     },
     "execution_count": 59,
     "metadata": {},
     "output_type": "execute_result"
    }
   ],
   "source": [
    "df['caa'].value_counts()"
   ]
  },
  {
   "cell_type": "code",
   "execution_count": 60,
   "id": "4cbabf3b",
   "metadata": {},
   "outputs": [
    {
     "data": {
      "text/html": [
       "<div>\n",
       "<style scoped>\n",
       "    .dataframe tbody tr th:only-of-type {\n",
       "        vertical-align: middle;\n",
       "    }\n",
       "\n",
       "    .dataframe tbody tr th {\n",
       "        vertical-align: top;\n",
       "    }\n",
       "\n",
       "    .dataframe thead th {\n",
       "        text-align: right;\n",
       "    }\n",
       "</style>\n",
       "<table border=\"1\" class=\"dataframe\">\n",
       "  <thead>\n",
       "    <tr style=\"text-align: right;\">\n",
       "      <th></th>\n",
       "      <th>sex</th>\n",
       "      <th>cp</th>\n",
       "      <th>fbs</th>\n",
       "      <th>restecg</th>\n",
       "      <th>exng</th>\n",
       "      <th>slp</th>\n",
       "      <th>caa</th>\n",
       "      <th>thall</th>\n",
       "    </tr>\n",
       "  </thead>\n",
       "  <tbody>\n",
       "    <tr>\n",
       "      <th>sex</th>\n",
       "      <td>1.000000</td>\n",
       "      <td>-0.091357</td>\n",
       "      <td>0.066692</td>\n",
       "      <td>-0.083290</td>\n",
       "      <td>0.182596</td>\n",
       "      <td>-0.060014</td>\n",
       "      <td>0.150209</td>\n",
       "      <td>0.243271</td>\n",
       "    </tr>\n",
       "    <tr>\n",
       "      <th>cp</th>\n",
       "      <td>-0.091357</td>\n",
       "      <td>1.000000</td>\n",
       "      <td>0.084389</td>\n",
       "      <td>0.080836</td>\n",
       "      <td>-0.388610</td>\n",
       "      <td>0.095881</td>\n",
       "      <td>-0.171717</td>\n",
       "      <td>-0.179204</td>\n",
       "    </tr>\n",
       "    <tr>\n",
       "      <th>fbs</th>\n",
       "      <td>0.066692</td>\n",
       "      <td>0.084389</td>\n",
       "      <td>1.000000</td>\n",
       "      <td>-0.077417</td>\n",
       "      <td>0.006080</td>\n",
       "      <td>-0.069563</td>\n",
       "      <td>0.156265</td>\n",
       "      <td>-0.064469</td>\n",
       "    </tr>\n",
       "    <tr>\n",
       "      <th>restecg</th>\n",
       "      <td>-0.083290</td>\n",
       "      <td>0.080836</td>\n",
       "      <td>-0.077417</td>\n",
       "      <td>1.000000</td>\n",
       "      <td>-0.104440</td>\n",
       "      <td>0.111841</td>\n",
       "      <td>-0.091123</td>\n",
       "      <td>0.034684</td>\n",
       "    </tr>\n",
       "    <tr>\n",
       "      <th>exng</th>\n",
       "      <td>0.182596</td>\n",
       "      <td>-0.388610</td>\n",
       "      <td>0.006080</td>\n",
       "      <td>-0.104440</td>\n",
       "      <td>1.000000</td>\n",
       "      <td>-0.259780</td>\n",
       "      <td>0.133820</td>\n",
       "      <td>0.202806</td>\n",
       "    </tr>\n",
       "    <tr>\n",
       "      <th>slp</th>\n",
       "      <td>-0.060014</td>\n",
       "      <td>0.095881</td>\n",
       "      <td>-0.069563</td>\n",
       "      <td>0.111841</td>\n",
       "      <td>-0.259780</td>\n",
       "      <td>1.000000</td>\n",
       "      <td>-0.055423</td>\n",
       "      <td>-0.086431</td>\n",
       "    </tr>\n",
       "    <tr>\n",
       "      <th>caa</th>\n",
       "      <td>0.150209</td>\n",
       "      <td>-0.171717</td>\n",
       "      <td>0.156265</td>\n",
       "      <td>-0.091123</td>\n",
       "      <td>0.133820</td>\n",
       "      <td>-0.055423</td>\n",
       "      <td>1.000000</td>\n",
       "      <td>0.156379</td>\n",
       "    </tr>\n",
       "    <tr>\n",
       "      <th>thall</th>\n",
       "      <td>0.243271</td>\n",
       "      <td>-0.179204</td>\n",
       "      <td>-0.064469</td>\n",
       "      <td>0.034684</td>\n",
       "      <td>0.202806</td>\n",
       "      <td>-0.086431</td>\n",
       "      <td>0.156379</td>\n",
       "      <td>1.000000</td>\n",
       "    </tr>\n",
       "  </tbody>\n",
       "</table>\n",
       "</div>"
      ],
      "text/plain": [
       "              sex        cp       fbs   restecg      exng       slp       caa  \\\n",
       "sex      1.000000 -0.091357  0.066692 -0.083290  0.182596 -0.060014  0.150209   \n",
       "cp      -0.091357  1.000000  0.084389  0.080836 -0.388610  0.095881 -0.171717   \n",
       "fbs      0.066692  0.084389  1.000000 -0.077417  0.006080 -0.069563  0.156265   \n",
       "restecg -0.083290  0.080836 -0.077417  1.000000 -0.104440  0.111841 -0.091123   \n",
       "exng     0.182596 -0.388610  0.006080 -0.104440  1.000000 -0.259780  0.133820   \n",
       "slp     -0.060014  0.095881 -0.069563  0.111841 -0.259780  1.000000 -0.055423   \n",
       "caa      0.150209 -0.171717  0.156265 -0.091123  0.133820 -0.055423  1.000000   \n",
       "thall    0.243271 -0.179204 -0.064469  0.034684  0.202806 -0.086431  0.156379   \n",
       "\n",
       "            thall  \n",
       "sex      0.243271  \n",
       "cp      -0.179204  \n",
       "fbs     -0.064469  \n",
       "restecg  0.034684  \n",
       "exng     0.202806  \n",
       "slp     -0.086431  \n",
       "caa      0.156379  \n",
       "thall    1.000000  "
      ]
     },
     "execution_count": 60,
     "metadata": {},
     "output_type": "execute_result"
    }
   ],
   "source": [
    "df.corr()"
   ]
  },
  {
   "cell_type": "code",
   "execution_count": 62,
   "id": "207a0975",
   "metadata": {},
   "outputs": [
    {
     "data": {
      "text/plain": [
       "0      0\n",
       "1      0\n",
       "2      0\n",
       "3      0\n",
       "4      0\n",
       "      ..\n",
       "298    1\n",
       "299    1\n",
       "300    1\n",
       "301    1\n",
       "302    1\n",
       "Name: output, Length: 283, dtype: int64"
      ]
     },
     "execution_count": 62,
     "metadata": {},
     "output_type": "execute_result"
    }
   ],
   "source": [
    "df['output'] = LabelEncoder().fit_transform(df['output'])\n",
    "df['output']"
   ]
  },
  {
   "cell_type": "code",
   "execution_count": 63,
   "id": "fa1872dc",
   "metadata": {},
   "outputs": [
    {
     "data": {
      "text/html": [
       "<div>\n",
       "<style scoped>\n",
       "    .dataframe tbody tr th:only-of-type {\n",
       "        vertical-align: middle;\n",
       "    }\n",
       "\n",
       "    .dataframe tbody tr th {\n",
       "        vertical-align: top;\n",
       "    }\n",
       "\n",
       "    .dataframe thead th {\n",
       "        text-align: right;\n",
       "    }\n",
       "</style>\n",
       "<table border=\"1\" class=\"dataframe\">\n",
       "  <thead>\n",
       "    <tr style=\"text-align: right;\">\n",
       "      <th></th>\n",
       "      <th>sex</th>\n",
       "      <th>cp</th>\n",
       "      <th>fbs</th>\n",
       "      <th>restecg</th>\n",
       "      <th>exng</th>\n",
       "      <th>slp</th>\n",
       "      <th>caa</th>\n",
       "      <th>thall</th>\n",
       "      <th>output</th>\n",
       "    </tr>\n",
       "  </thead>\n",
       "  <tbody>\n",
       "    <tr>\n",
       "      <th>sex</th>\n",
       "      <td>1.000000</td>\n",
       "      <td>-0.091357</td>\n",
       "      <td>0.066692</td>\n",
       "      <td>-0.083290</td>\n",
       "      <td>0.182596</td>\n",
       "      <td>-0.060014</td>\n",
       "      <td>0.150209</td>\n",
       "      <td>0.243271</td>\n",
       "      <td>0.318896</td>\n",
       "    </tr>\n",
       "    <tr>\n",
       "      <th>cp</th>\n",
       "      <td>-0.091357</td>\n",
       "      <td>1.000000</td>\n",
       "      <td>0.084389</td>\n",
       "      <td>0.080836</td>\n",
       "      <td>-0.388610</td>\n",
       "      <td>0.095881</td>\n",
       "      <td>-0.171717</td>\n",
       "      <td>-0.179204</td>\n",
       "      <td>-0.416319</td>\n",
       "    </tr>\n",
       "    <tr>\n",
       "      <th>fbs</th>\n",
       "      <td>0.066692</td>\n",
       "      <td>0.084389</td>\n",
       "      <td>1.000000</td>\n",
       "      <td>-0.077417</td>\n",
       "      <td>0.006080</td>\n",
       "      <td>-0.069563</td>\n",
       "      <td>0.156265</td>\n",
       "      <td>-0.064469</td>\n",
       "      <td>0.027210</td>\n",
       "    </tr>\n",
       "    <tr>\n",
       "      <th>restecg</th>\n",
       "      <td>-0.083290</td>\n",
       "      <td>0.080836</td>\n",
       "      <td>-0.077417</td>\n",
       "      <td>1.000000</td>\n",
       "      <td>-0.104440</td>\n",
       "      <td>0.111841</td>\n",
       "      <td>-0.091123</td>\n",
       "      <td>0.034684</td>\n",
       "      <td>-0.171453</td>\n",
       "    </tr>\n",
       "    <tr>\n",
       "      <th>exng</th>\n",
       "      <td>0.182596</td>\n",
       "      <td>-0.388610</td>\n",
       "      <td>0.006080</td>\n",
       "      <td>-0.104440</td>\n",
       "      <td>1.000000</td>\n",
       "      <td>-0.259780</td>\n",
       "      <td>0.133820</td>\n",
       "      <td>0.202806</td>\n",
       "      <td>0.431599</td>\n",
       "    </tr>\n",
       "    <tr>\n",
       "      <th>slp</th>\n",
       "      <td>-0.060014</td>\n",
       "      <td>0.095881</td>\n",
       "      <td>-0.069563</td>\n",
       "      <td>0.111841</td>\n",
       "      <td>-0.259780</td>\n",
       "      <td>1.000000</td>\n",
       "      <td>-0.055423</td>\n",
       "      <td>-0.086431</td>\n",
       "      <td>-0.326473</td>\n",
       "    </tr>\n",
       "    <tr>\n",
       "      <th>caa</th>\n",
       "      <td>0.150209</td>\n",
       "      <td>-0.171717</td>\n",
       "      <td>0.156265</td>\n",
       "      <td>-0.091123</td>\n",
       "      <td>0.133820</td>\n",
       "      <td>-0.055423</td>\n",
       "      <td>1.000000</td>\n",
       "      <td>0.156379</td>\n",
       "      <td>0.397733</td>\n",
       "    </tr>\n",
       "    <tr>\n",
       "      <th>thall</th>\n",
       "      <td>0.243271</td>\n",
       "      <td>-0.179204</td>\n",
       "      <td>-0.064469</td>\n",
       "      <td>0.034684</td>\n",
       "      <td>0.202806</td>\n",
       "      <td>-0.086431</td>\n",
       "      <td>0.156379</td>\n",
       "      <td>1.000000</td>\n",
       "      <td>0.349150</td>\n",
       "    </tr>\n",
       "    <tr>\n",
       "      <th>output</th>\n",
       "      <td>0.318896</td>\n",
       "      <td>-0.416319</td>\n",
       "      <td>0.027210</td>\n",
       "      <td>-0.171453</td>\n",
       "      <td>0.431599</td>\n",
       "      <td>-0.326473</td>\n",
       "      <td>0.397733</td>\n",
       "      <td>0.349150</td>\n",
       "      <td>1.000000</td>\n",
       "    </tr>\n",
       "  </tbody>\n",
       "</table>\n",
       "</div>"
      ],
      "text/plain": [
       "              sex        cp       fbs   restecg      exng       slp       caa  \\\n",
       "sex      1.000000 -0.091357  0.066692 -0.083290  0.182596 -0.060014  0.150209   \n",
       "cp      -0.091357  1.000000  0.084389  0.080836 -0.388610  0.095881 -0.171717   \n",
       "fbs      0.066692  0.084389  1.000000 -0.077417  0.006080 -0.069563  0.156265   \n",
       "restecg -0.083290  0.080836 -0.077417  1.000000 -0.104440  0.111841 -0.091123   \n",
       "exng     0.182596 -0.388610  0.006080 -0.104440  1.000000 -0.259780  0.133820   \n",
       "slp     -0.060014  0.095881 -0.069563  0.111841 -0.259780  1.000000 -0.055423   \n",
       "caa      0.150209 -0.171717  0.156265 -0.091123  0.133820 -0.055423  1.000000   \n",
       "thall    0.243271 -0.179204 -0.064469  0.034684  0.202806 -0.086431  0.156379   \n",
       "output   0.318896 -0.416319  0.027210 -0.171453  0.431599 -0.326473  0.397733   \n",
       "\n",
       "            thall    output  \n",
       "sex      0.243271  0.318896  \n",
       "cp      -0.179204 -0.416319  \n",
       "fbs     -0.064469  0.027210  \n",
       "restecg  0.034684 -0.171453  \n",
       "exng     0.202806  0.431599  \n",
       "slp     -0.086431 -0.326473  \n",
       "caa      0.156379  0.397733  \n",
       "thall    1.000000  0.349150  \n",
       "output   0.349150  1.000000  "
      ]
     },
     "execution_count": 63,
     "metadata": {},
     "output_type": "execute_result"
    }
   ],
   "source": [
    "df.corr()"
   ]
  },
  {
   "cell_type": "code",
   "execution_count": 65,
   "id": "7f5a438b",
   "metadata": {},
   "outputs": [],
   "source": [
    "sub1 = df[['sex', 'cp', 'output']]"
   ]
  },
  {
   "cell_type": "code",
   "execution_count": 67,
   "id": "e87a91a0",
   "metadata": {},
   "outputs": [
    {
     "data": {
      "text/html": [
       "<div>\n",
       "<style scoped>\n",
       "    .dataframe tbody tr th:only-of-type {\n",
       "        vertical-align: middle;\n",
       "    }\n",
       "\n",
       "    .dataframe tbody tr th {\n",
       "        vertical-align: top;\n",
       "    }\n",
       "\n",
       "    .dataframe thead th {\n",
       "        text-align: right;\n",
       "    }\n",
       "</style>\n",
       "<table border=\"1\" class=\"dataframe\">\n",
       "  <thead>\n",
       "    <tr style=\"text-align: right;\">\n",
       "      <th></th>\n",
       "      <th>sex</th>\n",
       "      <th>cp</th>\n",
       "    </tr>\n",
       "  </thead>\n",
       "  <tbody>\n",
       "    <tr>\n",
       "      <th>0</th>\n",
       "      <td>1</td>\n",
       "      <td>3</td>\n",
       "    </tr>\n",
       "    <tr>\n",
       "      <th>1</th>\n",
       "      <td>1</td>\n",
       "      <td>2</td>\n",
       "    </tr>\n",
       "    <tr>\n",
       "      <th>2</th>\n",
       "      <td>0</td>\n",
       "      <td>1</td>\n",
       "    </tr>\n",
       "    <tr>\n",
       "      <th>3</th>\n",
       "      <td>1</td>\n",
       "      <td>1</td>\n",
       "    </tr>\n",
       "    <tr>\n",
       "      <th>4</th>\n",
       "      <td>0</td>\n",
       "      <td>0</td>\n",
       "    </tr>\n",
       "    <tr>\n",
       "      <th>...</th>\n",
       "      <td>...</td>\n",
       "      <td>...</td>\n",
       "    </tr>\n",
       "    <tr>\n",
       "      <th>298</th>\n",
       "      <td>0</td>\n",
       "      <td>0</td>\n",
       "    </tr>\n",
       "    <tr>\n",
       "      <th>299</th>\n",
       "      <td>1</td>\n",
       "      <td>3</td>\n",
       "    </tr>\n",
       "    <tr>\n",
       "      <th>300</th>\n",
       "      <td>1</td>\n",
       "      <td>0</td>\n",
       "    </tr>\n",
       "    <tr>\n",
       "      <th>301</th>\n",
       "      <td>1</td>\n",
       "      <td>0</td>\n",
       "    </tr>\n",
       "    <tr>\n",
       "      <th>302</th>\n",
       "      <td>0</td>\n",
       "      <td>1</td>\n",
       "    </tr>\n",
       "  </tbody>\n",
       "</table>\n",
       "<p>283 rows × 2 columns</p>\n",
       "</div>"
      ],
      "text/plain": [
       "     sex  cp\n",
       "0      1   3\n",
       "1      1   2\n",
       "2      0   1\n",
       "3      1   1\n",
       "4      0   0\n",
       "..   ...  ..\n",
       "298    0   0\n",
       "299    1   3\n",
       "300    1   0\n",
       "301    1   0\n",
       "302    0   1\n",
       "\n",
       "[283 rows x 2 columns]"
      ]
     },
     "execution_count": 67,
     "metadata": {},
     "output_type": "execute_result"
    }
   ],
   "source": [
    "x=sub1.drop(['output'], axis=1)\n",
    "x"
   ]
  },
  {
   "cell_type": "code",
   "execution_count": 68,
   "id": "b4d1c167",
   "metadata": {},
   "outputs": [],
   "source": [
    "y = sub1['output'].values"
   ]
  },
  {
   "cell_type": "code",
   "execution_count": 69,
   "id": "2d898d53",
   "metadata": {},
   "outputs": [
    {
     "data": {
      "text/plain": [
       "(212, 2)"
      ]
     },
     "execution_count": 69,
     "metadata": {},
     "output_type": "execute_result"
    }
   ],
   "source": [
    "from sklearn.model_selection import train_test_split\n",
    "x_train, x_test, y_train, y_test = train_test_split(x, y, test_size=0.25, random_state=123)\n",
    "x_train.shape"
   ]
  },
  {
   "cell_type": "code",
   "execution_count": 70,
   "id": "ce355e6a",
   "metadata": {},
   "outputs": [
    {
     "data": {
      "text/html": [
       "<style>#sk-container-id-1 {color: black;background-color: white;}#sk-container-id-1 pre{padding: 0;}#sk-container-id-1 div.sk-toggleable {background-color: white;}#sk-container-id-1 label.sk-toggleable__label {cursor: pointer;display: block;width: 100%;margin-bottom: 0;padding: 0.3em;box-sizing: border-box;text-align: center;}#sk-container-id-1 label.sk-toggleable__label-arrow:before {content: \"▸\";float: left;margin-right: 0.25em;color: #696969;}#sk-container-id-1 label.sk-toggleable__label-arrow:hover:before {color: black;}#sk-container-id-1 div.sk-estimator:hover label.sk-toggleable__label-arrow:before {color: black;}#sk-container-id-1 div.sk-toggleable__content {max-height: 0;max-width: 0;overflow: hidden;text-align: left;background-color: #f0f8ff;}#sk-container-id-1 div.sk-toggleable__content pre {margin: 0.2em;color: black;border-radius: 0.25em;background-color: #f0f8ff;}#sk-container-id-1 input.sk-toggleable__control:checked~div.sk-toggleable__content {max-height: 200px;max-width: 100%;overflow: auto;}#sk-container-id-1 input.sk-toggleable__control:checked~label.sk-toggleable__label-arrow:before {content: \"▾\";}#sk-container-id-1 div.sk-estimator input.sk-toggleable__control:checked~label.sk-toggleable__label {background-color: #d4ebff;}#sk-container-id-1 div.sk-label input.sk-toggleable__control:checked~label.sk-toggleable__label {background-color: #d4ebff;}#sk-container-id-1 input.sk-hidden--visually {border: 0;clip: rect(1px 1px 1px 1px);clip: rect(1px, 1px, 1px, 1px);height: 1px;margin: -1px;overflow: hidden;padding: 0;position: absolute;width: 1px;}#sk-container-id-1 div.sk-estimator {font-family: monospace;background-color: #f0f8ff;border: 1px dotted black;border-radius: 0.25em;box-sizing: border-box;margin-bottom: 0.5em;}#sk-container-id-1 div.sk-estimator:hover {background-color: #d4ebff;}#sk-container-id-1 div.sk-parallel-item::after {content: \"\";width: 100%;border-bottom: 1px solid gray;flex-grow: 1;}#sk-container-id-1 div.sk-label:hover label.sk-toggleable__label {background-color: #d4ebff;}#sk-container-id-1 div.sk-serial::before {content: \"\";position: absolute;border-left: 1px solid gray;box-sizing: border-box;top: 0;bottom: 0;left: 50%;z-index: 0;}#sk-container-id-1 div.sk-serial {display: flex;flex-direction: column;align-items: center;background-color: white;padding-right: 0.2em;padding-left: 0.2em;position: relative;}#sk-container-id-1 div.sk-item {position: relative;z-index: 1;}#sk-container-id-1 div.sk-parallel {display: flex;align-items: stretch;justify-content: center;background-color: white;position: relative;}#sk-container-id-1 div.sk-item::before, #sk-container-id-1 div.sk-parallel-item::before {content: \"\";position: absolute;border-left: 1px solid gray;box-sizing: border-box;top: 0;bottom: 0;left: 50%;z-index: -1;}#sk-container-id-1 div.sk-parallel-item {display: flex;flex-direction: column;z-index: 1;position: relative;background-color: white;}#sk-container-id-1 div.sk-parallel-item:first-child::after {align-self: flex-end;width: 50%;}#sk-container-id-1 div.sk-parallel-item:last-child::after {align-self: flex-start;width: 50%;}#sk-container-id-1 div.sk-parallel-item:only-child::after {width: 0;}#sk-container-id-1 div.sk-dashed-wrapped {border: 1px dashed gray;margin: 0 0.4em 0.5em 0.4em;box-sizing: border-box;padding-bottom: 0.4em;background-color: white;}#sk-container-id-1 div.sk-label label {font-family: monospace;font-weight: bold;display: inline-block;line-height: 1.2em;}#sk-container-id-1 div.sk-label-container {text-align: center;}#sk-container-id-1 div.sk-container {/* jupyter's `normalize.less` sets `[hidden] { display: none; }` but bootstrap.min.css set `[hidden] { display: none !important; }` so we also need the `!important` here to be able to override the default hidden behavior on the sphinx rendered scikit-learn.org. See: https://github.com/scikit-learn/scikit-learn/issues/21755 */display: inline-block !important;position: relative;}#sk-container-id-1 div.sk-text-repr-fallback {display: none;}</style><div id=\"sk-container-id-1\" class=\"sk-top-container\"><div class=\"sk-text-repr-fallback\"><pre>KNeighborsClassifier(n_neighbors=2)</pre><b>In a Jupyter environment, please rerun this cell to show the HTML representation or trust the notebook. <br />On GitHub, the HTML representation is unable to render, please try loading this page with nbviewer.org.</b></div><div class=\"sk-container\" hidden><div class=\"sk-item\"><div class=\"sk-estimator sk-toggleable\"><input class=\"sk-toggleable__control sk-hidden--visually\" id=\"sk-estimator-id-1\" type=\"checkbox\" checked><label for=\"sk-estimator-id-1\" class=\"sk-toggleable__label sk-toggleable__label-arrow\">KNeighborsClassifier</label><div class=\"sk-toggleable__content\"><pre>KNeighborsClassifier(n_neighbors=2)</pre></div></div></div></div></div>"
      ],
      "text/plain": [
       "KNeighborsClassifier(n_neighbors=2)"
      ]
     },
     "execution_count": 70,
     "metadata": {},
     "output_type": "execute_result"
    }
   ],
   "source": [
    "from sklearn.neighbors import KNeighborsClassifier\n",
    "model = KNeighborsClassifier(n_neighbors=2)\n",
    "model.fit(x_train, y_train)\n"
   ]
  },
  {
   "cell_type": "code",
   "execution_count": 71,
   "id": "5f3f8347",
   "metadata": {},
   "outputs": [],
   "source": [
    "y_pred = model.predict(x_test)"
   ]
  },
  {
   "cell_type": "code",
   "execution_count": 73,
   "id": "fa75796f",
   "metadata": {},
   "outputs": [
    {
     "name": "stdout",
     "output_type": "stream",
     "text": [
      "0.7605633802816901\n",
      "0.7567567567567568\n"
     ]
    }
   ],
   "source": [
    "from sklearn.metrics import accuracy_score, precision_score, f1_score\n",
    "print(f\"{accuracy_score(y_test, y_pred)}\")\n",
    "print(f\"{precision_score(y_test, y_pred)}\")"
   ]
  },
  {
   "cell_type": "code",
   "execution_count": 76,
   "id": "58b64f8f",
   "metadata": {},
   "outputs": [
    {
     "name": "stderr",
     "output_type": "stream",
     "text": [
      "/Library/Frameworks/Python.framework/Versions/3.9/lib/python3.9/site-packages/sklearn/base.py:450: UserWarning: X does not have valid feature names, but KNeighborsClassifier was fitted with feature names\n",
      "  warnings.warn(\n"
     ]
    },
    {
     "data": {
      "text/plain": [
       "array([1])"
      ]
     },
     "execution_count": 76,
     "metadata": {},
     "output_type": "execute_result"
    }
   ],
   "source": [
    "model.predict([[1,0]])"
   ]
  },
  {
   "cell_type": "code",
   "execution_count": null,
   "id": "500b748a",
   "metadata": {},
   "outputs": [],
   "source": []
  }
 ],
 "metadata": {
  "kernelspec": {
   "display_name": "Python 3 (ipykernel)",
   "language": "python",
   "name": "python3"
  },
  "language_info": {
   "codemirror_mode": {
    "name": "ipython",
    "version": 3
   },
   "file_extension": ".py",
   "mimetype": "text/x-python",
   "name": "python",
   "nbconvert_exporter": "python",
   "pygments_lexer": "ipython3",
   "version": "3.9.2"
  }
 },
 "nbformat": 4,
 "nbformat_minor": 5
}
